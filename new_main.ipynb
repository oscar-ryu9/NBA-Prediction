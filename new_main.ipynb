{
 "cells": [
  {
   "cell_type": "code",
   "execution_count": 2,
   "metadata": {},
   "outputs": [],
   "source": [
    "import os\n",
    "from selenium import webdriver\n",
    "from selenium.webdriver.common.by import By\n",
    "from bs4 import BeautifulSoup, Comment\n",
    "import requests\n",
    "import time\n",
    "import urllib\n",
    "import urllib.request\n",
    "import pandas as pd\n",
    "from tqdm import tqdm\n"
   ]
  },
  {
   "cell_type": "code",
   "execution_count": null,
   "metadata": {},
   "outputs": [],
   "source": [
    "seasons = 2011\n",
    "year_links = []\n",
    "year_filename = []\n",
    "for season in seasons:\n",
    "    os.mkdir(os.path.join(\"html\", str(season)))\n",
    "    time.sleep(15)\n",
    "\n",
    "    url = f\"https://www.basketball-reference.com/leagues/NBA_{season}_games.html\"\n",
    "    path = '/E:/Projects/Selenium/chromedriver.exe'\n",
    "\n",
    "\n",
    "    options = webdriver.ChromeOptions()\n",
    "\n",
    "    options.add_argument('--ignore-certificate-errors')\n",
    "    options.add_argument('--ignore-ssl-errors')\n",
    "    driver = webdriver.Chrome(options=options, executable_path=path)\n",
    "    driver.minimize_window()\n",
    "    driver.get(url)\n",
    "\n",
    "\n",
    "    months = driver.find_elements(By.XPATH, \"//div[@class='filter']//a\")\n",
    "    month_links = []\n",
    "    month_filename = []\n",
    "    for month in months:\n",
    "        os.mkdir(os.path.join(\"html\", str(season), month.text.lower()))\n",
    "        month_links.append(month.get_attribute('href'))\n",
    "        month_filename.append(month.text.lower())\n",
    "    \n",
    "\n",
    "    year_links.append(month_links)\n",
    "    year_filename.append(month_filename)\n",
    "\n",
    "\n",
    "    driver.quit()"
   ]
  }
 ],
 "metadata": {
  "kernelspec": {
   "display_name": "Python 3.10.8 64-bit",
   "language": "python",
   "name": "python3"
  },
  "language_info": {
   "codemirror_mode": {
    "name": "ipython",
    "version": 3
   },
   "file_extension": ".py",
   "mimetype": "text/x-python",
   "name": "python",
   "nbconvert_exporter": "python",
   "pygments_lexer": "ipython3",
   "version": "3.10.8"
  },
  "orig_nbformat": 4,
  "vscode": {
   "interpreter": {
    "hash": "e862f03a38e2567384897dda9b53f1990af8aea26ba19cc57babce1b133c6d56"
   }
  }
 },
 "nbformat": 4,
 "nbformat_minor": 2
}
